{
 "cells": [
  {
   "cell_type": "markdown",
   "metadata": {},
   "source": [
    "# Web Scraping"
   ]
  },
  {
   "cell_type": "markdown",
   "metadata": {},
   "source": [
    "* website used:- https://www.timesjobs.com/candidate/job-search.html?searchName=recentSearches&from=submit&actualTxtKeywords=python&searchBy=0&rdoOperator=OR&searchType=personalizedSearch&luceneResultSize=25&postWeek=60&txtKeywords=python&gadLink=python\n",
    "\n",
    "* what it find:- the jobs that are related to python field and are posted few days ago in this website \n",
    "\n",
    "* extra feature:- filter out the skills that you are not familiar with"
   ]
  },
  {
   "cell_type": "markdown",
   "metadata": {},
   "source": [
    "* what it find:- the jobs that are related to python field and are posted few days ago in this website "
   ]
  },
  {
   "cell_type": "markdown",
   "metadata": {},
   "source": [
    "* extra feature:- filter out the skills that you are not familiar with"
   ]
  },
  {
   "cell_type": "code",
   "execution_count": 3,
   "metadata": {},
   "outputs": [
    {
     "name": "stdout",
     "output_type": "stream",
     "text": [
      "enter the skills that you are unfamiliar with:\n",
      "mysql\n",
      "there are no jobs that are posted few days ago\n"
     ]
    }
   ],
   "source": [
    "import requests\n",
    "import time\n",
    "from bs4 import BeautifulSoup\n",
    "\n",
    "def find_job():\n",
    "#     import requests\n",
    "#     import time\n",
    "#     from bs4 import BeautifulSoup\n",
    "\n",
    "    url = 'https://www.timesjobs.com/candidate/job-search.html?searchName=recentSearches&from=submit&actualTxtKeywords=python&searchBy=0&rdoOperator=OR&searchType=personalizedSearch&luceneResultSize=25&postWeek=60&txtKeywords=python&gadLink=python'\n",
    "    html_text = requests.get(url).text\n",
    "    soup= BeautifulSoup(html_text,'lxml')\n",
    "    jobs = soup.find_all('li', class_ = 'clearfix job-bx wht-shd-bx')\n",
    "    print(\"enter the skills that you are unfamiliar with:\")\n",
    "    filters=input().split()\n",
    "   \n",
    "    #erasing previous contents\n",
    "    with open(f'job_list_result/jobs.txt','w') as f:\n",
    "        f.close()\n",
    "        \n",
    "    #getting the result\n",
    "    for job in jobs:\n",
    "        #print('sdg')\n",
    "        published_date = job.find('span', class_ = 'sim-posted').text.replace('\\n','')\n",
    "       # print(published_date)\n",
    "        if 'few' in published_date:\n",
    "            skills = job.find('span', class_ = 'srp-skills').text.replace(' ','').strip()\n",
    "        else:\n",
    "            print(\"there are no jobs that are posted few days ago...Look after some time.\")\n",
    "            break\n",
    "            \n",
    "            company_name = job.find('h3',class_ = 'joblist-comp-name').text.strip()\n",
    "            link = job.header.h2.a['href']\n",
    "            result= all(skill not in filters for skill in skills.split(','))\n",
    "            \n",
    "            #if filters not in skills:\n",
    "            if result:\n",
    "                with open(f'job_list_result/jobs.txt','a') as f:\n",
    "                    f.write(f\"company_name: {company_name}\\n\")\n",
    "                    f.write(f\"skills : {skills} \\n\")\n",
    "                    f.write(f\"more_info-> {link}\\n\\n\")\n",
    "                    f.close()\n",
    "    \n",
    "    if 'few' in published_date:\n",
    "        print(f\"Your result is ready...\")\n",
    "        time.sleep(1)\n",
    "        print(\"Please look in job_list folder !!!\")\n",
    "\n",
    "if __name__ == \"__main__\":\n",
    "    #while True:\n",
    "    find_job()\n",
    "#         time_wait=10\n",
    "#         print(\"next job update in 10 minutes....\")\n",
    "#         time.sleep(60*time_wait)"
   ]
  },
  {
   "cell_type": "code",
   "execution_count": null,
   "metadata": {},
   "outputs": [],
   "source": []
  }
 ],
 "metadata": {
  "kernelspec": {
   "display_name": "Python 3",
   "language": "python",
   "name": "python3"
  },
  "language_info": {
   "codemirror_mode": {
    "name": "ipython",
    "version": 3
   },
   "file_extension": ".py",
   "mimetype": "text/x-python",
   "name": "python",
   "nbconvert_exporter": "python",
   "pygments_lexer": "ipython3",
   "version": "3.8.5"
  }
 },
 "nbformat": 4,
 "nbformat_minor": 4
}
